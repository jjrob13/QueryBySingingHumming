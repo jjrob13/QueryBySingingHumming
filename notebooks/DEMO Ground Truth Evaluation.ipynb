{
 "cells": [
  {
   "cell_type": "code",
   "execution_count": null,
   "metadata": {
    "collapsed": true
   },
   "outputs": [],
   "source": [
    "from dotenv import *\n",
    "import os, subprocess\n",
    "load_dotenv(find_dotenv())\n",
    "\n",
    "project_root = '..'"
   ]
  },
  {
   "cell_type": "code",
   "execution_count": null,
   "metadata": {
    "collapsed": false
   },
   "outputs": [],
   "source": [
    "query_path = os.path.join(project_root, os.environ['DEMO_QUERY_PATH'])"
   ]
  },
  {
   "cell_type": "markdown",
   "metadata": {},
   "source": [
    "# Play the query"
   ]
  },
  {
   "cell_type": "code",
   "execution_count": null,
   "metadata": {
    "collapsed": false
   },
   "outputs": [],
   "source": [
    "import IPython\n",
    "IPython.display.Audio(query_path)"
   ]
  },
  {
   "cell_type": "markdown",
   "metadata": {},
   "source": [
    "# What song was actually queried?"
   ]
  },
  {
   "cell_type": "code",
   "execution_count": null,
   "metadata": {
    "collapsed": false
   },
   "outputs": [],
   "source": [
    "song_num = 13\n",
    "target_query_path = str(song_num).zfill(5) + '.mid';\n",
    "target_query_path"
   ]
  },
  {
   "cell_type": "code",
   "execution_count": null,
   "metadata": {
    "collapsed": false
   },
   "outputs": [],
   "source": [
    "midi_wav_path = os.path.join(project_root, os.environ['MIDI_WAV_DIR'], str(song_num).zfill(5) + '.wav')\n",
    "IPython.display.Audio(midi_wav_path)"
   ]
  },
  {
   "cell_type": "code",
   "execution_count": null,
   "metadata": {
    "collapsed": true
   },
   "outputs": [],
   "source": [
    "total_songs = len(os.listdir(os.path.join(project_root, os.environ['MIDI_DIR'])))"
   ]
  },
  {
   "cell_type": "markdown",
   "metadata": {},
   "source": [
    "# Measure performance"
   ]
  },
  {
   "cell_type": "code",
   "execution_count": null,
   "metadata": {
    "collapsed": false
   },
   "outputs": [],
   "source": [
    "%%time\n",
    "from utils import get_prediction_df\n",
    "res_df = get_prediction_df(query_path)"
   ]
  },
  {
   "cell_type": "code",
   "execution_count": null,
   "metadata": {
    "collapsed": false
   },
   "outputs": [],
   "source": [
    "import numpy as np\n",
    "def get_rank(res_df, path):\n",
    "    if len(res_df[res_df.midi_paths.str.contains(path)]) == 0:\n",
    "        return -1\n",
    "    return res_df.get_value(res_df[res_df.midi_paths.str.contains(path)].index[0], 'rank')\n",
    "\n",
    "def get_error(res_df, path):\n",
    "    if len(res_df[res_df.midi_paths.str.contains(path)]) == 0:\n",
    "        return np.inf\n",
    "    return res_df.get_value(res_df[res_df.midi_paths.str.contains(path)].index[0], 'error')"
   ]
  },
  {
   "cell_type": "code",
   "execution_count": null,
   "metadata": {
    "collapsed": false
   },
   "outputs": [],
   "source": [
    "rank = get_rank(res_df, target_query_path)\n",
    "print 'Ranked song %d out of %d' % (rank, total_songs)"
   ]
  },
  {
   "cell_type": "markdown",
   "metadata": {},
   "source": [
    "# Measure performance with increasing noise"
   ]
  },
  {
   "cell_type": "code",
   "execution_count": null,
   "metadata": {
    "collapsed": false
   },
   "outputs": [],
   "source": [
    "import librosa\n",
    "y, sr = librosa.load(query_path, sr=8000)"
   ]
  },
  {
   "cell_type": "code",
   "execution_count": null,
   "metadata": {
    "collapsed": false
   },
   "outputs": [],
   "source": [
    "from scipy.stats import signaltonoise\n",
    "import numpy as np\n",
    "\n",
    "def snr(y):\n",
    "    return (10 * np.log10(np.abs(signaltonoise(y))))\n",
    "\n",
    "init_snr = snr(y)\n",
    "print 'SNR = %0.02f dB' % init_snr"
   ]
  },
  {
   "cell_type": "code",
   "execution_count": null,
   "metadata": {
    "collapsed": false
   },
   "outputs": [],
   "source": [
    "import os, scipy\n",
    "tmp_query_path = '.tmp_query.wav'\n",
    "y_noise = y\n",
    "snrs = [init_snr]\n",
    "ranks = [rank]\n",
    "dfs = [res_df]\n",
    "errors = [get_error(res_df, target_query_path)]\n",
    "iter_n = 0\n",
    "\n",
    "while ranks[-1] != -1:\n",
    "    iter_n += 1\n",
    "    print iter_n\n",
    "    y_noise = (y_noise + 0.2 * np.random.normal(0, 1, len(y))).astype('float16')\n",
    "    \n",
    "    scipy.io.wavfile.write(tmp_query_path, sr, y_noise)\n",
    "    noise_df = get_prediction_df(tmp_query_path)\n",
    "    noise_rank = get_rank(noise_df, target_query_path)\n",
    "    \n",
    "    dfs.append(noise_df)\n",
    "    ranks.append(noise_rank)\n",
    "    snrs.append(snr(y_noise))\n",
    "    errors.append(get_error(noise_df, target_query_path))\n",
    "       \n",
    "os.remove(tmp_query_path)"
   ]
  },
  {
   "cell_type": "code",
   "execution_count": null,
   "metadata": {
    "collapsed": false
   },
   "outputs": [],
   "source": [
    "IPython.display.Audio(y_noise, rate=sr)"
   ]
  },
  {
   "cell_type": "code",
   "execution_count": null,
   "metadata": {
    "collapsed": false
   },
   "outputs": [],
   "source": [
    "%matplotlib inline\n",
    "import matplotlib.pyplot as plt\n",
    "y_ranks = ranks[:-1]\n",
    "plt.plot(range(len(y_ranks)), y_ranks)\n",
    "plt.ylabel('Rank')\n",
    "plt.xlabel('Iterations of Adding Noise')\n",
    "plt.title('Rank of Song vs Noise')"
   ]
  },
  {
   "cell_type": "markdown",
   "metadata": {},
   "source": [
    "# Signal Comparison"
   ]
  },
  {
   "cell_type": "code",
   "execution_count": null,
   "metadata": {
    "collapsed": false
   },
   "outputs": [],
   "source": [
    "y_harm, y_perc = librosa.effects.hpss(y_noise)\n",
    "noise_plot, = plt.plot(y_harm, color='b', label='w/ Noise')\n",
    "y_harm, y_perc = librosa.effects.hpss(y)\n",
    "clean_plot, = plt.plot(y_harm, color='r', label='w/o Noise')\n",
    "plt.legend([noise_plot, clean_plot])"
   ]
  },
  {
   "cell_type": "code",
   "execution_count": null,
   "metadata": {
    "collapsed": true
   },
   "outputs": [],
   "source": []
  }
 ],
 "metadata": {
  "anaconda-cloud": {},
  "kernelspec": {
   "display_name": "Python 2",
   "language": "python",
   "name": "python2"
  },
  "language_info": {
   "codemirror_mode": {
    "name": "ipython",
    "version": 2
   },
   "file_extension": ".py",
   "mimetype": "text/x-python",
   "name": "python",
   "nbconvert_exporter": "python",
   "pygments_lexer": "ipython2",
   "version": "2.7.11"
  }
 },
 "nbformat": 4,
 "nbformat_minor": 1
}
